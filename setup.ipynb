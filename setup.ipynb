{
 "cells": [
  {
   "cell_type": "code",
   "execution_count": 1,
   "id": "024423e0",
   "metadata": {},
   "outputs": [
    {
     "name": "stdout",
     "output_type": "stream",
     "text": [
      "Cloning into 'yolov12'...\n",
      "remote: Enumerating objects: 1156, done.\u001b[K\n",
      "remote: Counting objects: 100% (513/513), done.\u001b[K\n",
      "remote: Compressing objects: 100% (232/232), done.\u001b[K\n",
      "remote: Total 1156 (delta 323), reused 280 (delta 280), pack-reused 643 (from 1)\u001b[K\n",
      "Receiving objects: 100% (1156/1156), 1.82 MiB | 2.33 MiB/s, done.\n",
      "Resolving deltas: 100% (571/571), done.\n"
     ]
    }
   ],
   "source": [
    "! git clone https://github.com/sunsmarterjie/yolov12\n"
   ]
  },
  {
   "cell_type": "code",
   "execution_count": null,
   "id": "b615c4b9",
   "metadata": {},
   "outputs": [
    {
     "name": "stdout",
     "output_type": "stream",
     "text": [
      "\u001b[33mWARNING: Requirement 'flash_attn-2.7.3+cu11torch2.2cxx11abiFALSE-cp311-cp311-linux_x86_64.whl' looks like a filename, but the file does not exist\u001b[0m\u001b[33m\n",
      "\u001b[0m\u001b[31mERROR: flash_attn-2.7.3+cu11torch2.2cxx11abiFALSE-cp311-cp311-linux_x86_64.whl is not a supported wheel on this platform.\u001b[0m\u001b[31m\n",
      "\u001b[0m"
     ]
    }
   ],
   "source": [
    "! cd yolov12 && pip install -r requirements.txt && pip install -e ."
   ]
  }
 ],
 "metadata": {
  "kernelspec": {
   "display_name": ".venv",
   "language": "python",
   "name": "python3"
  },
  "language_info": {
   "codemirror_mode": {
    "name": "ipython",
    "version": 3
   },
   "file_extension": ".py",
   "mimetype": "text/x-python",
   "name": "python",
   "nbconvert_exporter": "python",
   "pygments_lexer": "ipython3",
   "version": "3.12.3"
  }
 },
 "nbformat": 4,
 "nbformat_minor": 5
}
